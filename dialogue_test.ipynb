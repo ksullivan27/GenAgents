{
 "cells": [
  {
   "cell_type": "code",
   "execution_count": 1,
   "metadata": {},
   "outputs": [],
   "source": [
    "from openai import OpenAI\n",
    "\n",
    "from text_adventure_games import (\n",
    "    games, parsing, actions, things, blocks, viz, managers\n",
    ")"
   ]
  },
  {
   "cell_type": "code",
   "execution_count": 2,
   "metadata": {},
   "outputs": [
    {
     "name": "stdout",
     "output_type": "stream",
     "text": [
      "Jennifer says: \"Hey Tom, I've been thinking about the game and I believe we should consider voting for Alex. He's a strong competitor and could be a big threat in the final challenges. What do you think?\"\n",
      "Tom says: \"Hey Jennifer, I've been thinking the same. Alex is indeed a strong competitor. But, you know, I've been observing Josh too. He's been flying under the radar, and that's a strategy too. Maybe we should consider him as well. What do you think?\"\n",
      "Jennifer says: \"You make a good point, Tom. Josh has been playing a quiet game, which can be just as dangerous. However, I still think Alex is the bigger threat right now. If we don't vote him out soon, he might win all the remaining challenges. Let's keep an eye on Josh, but focus on Alex for now. Does that sound like a plan?\"\n",
      "Tom says: \"I see where you're coming from, Jennifer. Alex is indeed a threat. But, you know, I can't help but feel paranoid about Josh. He's been too quiet, and that worries me. But I understand your point about Alex. Let's do this: we vote for Alex now, but we keep a close eye on Josh. If Alex gets voted out and Josh starts winning challenges, we know who to target next. Does that sound fair?\"\n",
      "Jennifer says: \"Absolutely, Tom. I think that's a great plan. We vote for Alex now and keep a close eye on Josh. We need to stay flexible and adapt to the game as it changes. I'm glad we're on the same page. Let's stick together and make it to the end.\"\n",
      "Tom says: \"I'm glad we see eye to eye on this, Jennifer. It's important to have allies in this game, especially at this stage. Let's stick to the plan and vote for Alex. And remember, we need to keep this between us. We don't want to alert Alex or Josh about our plans. Let's do this!\"\n",
      "Jennifer says: \"Absolutely, Tom. Our plan stays between us. We'll vote for Alex and keep a close eye on Josh. I'm glad we're working together on this. Let's make it to the end!\"\n",
      "Tom says: \"I couldn't agree more, Jennifer. We've got a solid plan and I'm confident we can make it to the end. Let's stick together, trust each other, and play this game smart. We've got this!\"\n",
      "Jennifer says: \"I couldn't have said it better myself, Tom. Trust and smart gameplay are key. Let's stick to our plan and make it to the end. We've got this!\"\n",
      "Tom says: \"Absolutely, Jennifer. We're a strong team and I believe in us. Let's stick to the plan, trust each other, and play smart. We're in this together, all the way to the end. Let's do this!\"\n",
      "Jennifer says: \"I'm with you, Tom. We're a strong team and we can make it to the end. Let's stick to our plan, trust each other, and play this game as smart as we can. We're in this together!\"\n",
      "Tom says: \"That's the spirit, Jennifer! We're a strong team and we've got a solid plan. Let's stick to it, trust each other, and play this game to the best of our abilities. We're in this together, all the way to the end. Let's do this!\"\n",
      "Jennifer says: \"Absolutely, Tom! We're a strong team with a solid plan. Let's stick to it, trust each other, and play this game to the best of our abilities. We're in this together, all the way to the end. Let's do this!\"\n",
      "Tom says: \"I'm glad we're on the same page, Jennifer. Let's stick to our plan, trust each other, and play this game smart. We're in this together, all the way to the end. Let's do this!\"\n",
      "Jennifer says: \"I couldn't agree more, Tom. We're on the same page, we have a solid plan, and we trust each other. Let's play this game smart and make it to the end together. We've got this!\"\n",
      "Tom says: \"Exactly, Jennifer! We're a strong team, we have a solid plan, and we trust each other. Let's play this game smart and make it to the end together. We've got this!\"\n",
      "Jennifer says: \"Absolutely, Tom! We're a strong team with a solid plan. Let's stick to it, trust each other, and play this game to the best of our abilities. We're in this together, all the way to the end. Let's do this!\"\n",
      "Tom says: \"I couldn't agree more, Jennifer. We're a strong team, we have a solid plan, and we trust each other. Let's play this game smart and make it to the end together. We've got this!\"\n",
      "Jennifer says: \"That's the spirit, Tom! We're a strong team with a solid plan. Let's stick to it, trust each other, and play this game to the best of our abilities. We're in this together, all the way to the end. Let's do this!\"\n",
      "Tom says: \"Exactly, Jennifer! We're a strong team, we have a solid plan, and we trust each other. Let's play this game smart and make it to the end together. We've got this!\"\n"
     ]
    }
   ],
   "source": [
    "jennifer = things.Character(\n",
    "    name=\"Jennifer\",\n",
    "    description=\"A survivor player\",\n",
    "    persona=\"You are Jennifer, a contestant on the reality TV show Survivor. You are a highschool teacher, you care deeply about animals and you are a very energetic person.\",\n",
    ")\n",
    "tom = things.Character(\n",
    "    name=\"Tom\",\n",
    "    description=\"A survivor player\",\n",
    "    persona=\"You are Tom, a contestant on the reality TV show Survivor. You are a college student, you like music and you are paranoic.\",\n",
    ")\n",
    "\n",
    "dialogue = managers.Dialogue([jennifer, tom])\n",
    "dialogue.dialogue_loop()\n"
   ]
  },
  {
   "cell_type": "code",
   "execution_count": null,
   "metadata": {},
   "outputs": [],
   "source": []
  }
 ],
 "metadata": {
  "kernelspec": {
   "display_name": "Python 3",
   "language": "python",
   "name": "python3"
  },
  "language_info": {
   "codemirror_mode": {
    "name": "ipython",
    "version": 3
   },
   "file_extension": ".py",
   "mimetype": "text/x-python",
   "name": "python",
   "nbconvert_exporter": "python",
   "pygments_lexer": "ipython3",
   "version": "3.11.0"
  }
 },
 "nbformat": 4,
 "nbformat_minor": 2
}
