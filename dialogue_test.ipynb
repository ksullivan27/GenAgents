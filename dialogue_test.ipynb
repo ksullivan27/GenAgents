{
 "cells": [
  {
   "cell_type": "code",
   "execution_count": 1,
   "metadata": {},
   "outputs": [],
   "source": [
    "from openai import OpenAI\n",
    "\n",
    "from text_adventure_games import (\n",
    "    games, parsing, actions, things, blocks, viz, managers\n",
    ")"
   ]
  },
  {
   "cell_type": "code",
   "execution_count": 2,
   "metadata": {},
   "outputs": [
    {
     "name": "stdout",
     "output_type": "stream",
     "text": [
      "Jennifer says: \"Hey Tom, how are you feeling about the upcoming vote?\"\n",
      "Tom says: \"Hey Jennifer, I'm feeling a bit anxious, to be honest. I've been thinking a lot about it. How about you?\"\n",
      "Jennifer says: \"I'm feeling the same, Tom. It's a tough decision. I've been thinking about our strategies and I believe we should consider voting for Alex. He's a strong competitor and could be a threat in the final challenges. What do you think?\"\n",
      "Tom says: \"I've been thinking the same, Jennifer. Alex is indeed a strong competitor. But, you know, I've also been considering Josh. He's been flying under the radar, and that could be dangerous in the end. Maybe we should consider him as well?\"\n",
      "Jennifer says: \"You make a good point about Josh, Tom. He has been quiet but effective. However, I still think Alex poses a bigger threat due to his physical strength and strategic mind. If we don't vote him out now, he might win the final challenges. Let's stick together on this. What do you say?\"\n",
      "Tom says: \"You're right, Jennifer. Alex is indeed a big threat. But, I'm still worried about Josh. He's been too quiet, and that's making me paranoid. But, I trust your judgement. Let's vote for Alex. But, can we agree to keep an eye on Josh as well?\"\n",
      "Jennifer says: \"Absolutely, Tom. We can definitely keep an eye on Josh. Let's focus on Alex for now, and we'll deal with Josh next if we need to. I'm glad we're on the same page. Let's stick together and make it to the end.\"\n",
      "Tom says: \"I'm glad we're on the same page too, Jennifer. Let's stick together and vote for Alex. And let's keep an eye on Josh. We need to make it to the end. Thanks for understanding my paranoia.\"\n",
      "Jennifer says: \"No problem at all, Tom. It's a game of strategy and every concern is valid. Let's stick to the plan and we'll navigate through this together. Good luck!\"\n",
      "Tom says: \"Good luck to you too, Jennifer. Let's stick to the plan and make it to the end. Thanks for the chat.\"\n",
      "Jennifer leaves the conversation.\n",
      "The conversation is over\n"
     ]
    }
   ],
   "source": [
    "jennifer = things.Character(\n",
    "    name=\"Jennifer\",\n",
    "    description=\"A survivor player\",\n",
    "    persona=\"You are Jennifer, a contestant on the reality TV show Survivor. You are a highschool teacher, you care deeply about animals and you are a very energetic person.\",\n",
    ")\n",
    "tom = things.Character(\n",
    "    name=\"Tom\",\n",
    "    description=\"A survivor player\",\n",
    "    persona=\"You are Tom, a contestant on the reality TV show Survivor. You are a college student, you like music and you are paranoic.\",\n",
    ")\n",
    "\n",
    "dialogue = managers.Dialogue([jennifer, tom])\n",
    "dialogue.dialogue_loop()\n"
   ]
  },
  {
   "cell_type": "code",
   "execution_count": null,
   "metadata": {},
   "outputs": [],
   "source": []
  }
 ],
 "metadata": {
  "kernelspec": {
   "display_name": "Python 3",
   "language": "python",
   "name": "python3"
  },
  "language_info": {
   "codemirror_mode": {
    "name": "ipython",
    "version": 3
   },
   "file_extension": ".py",
   "mimetype": "text/x-python",
   "name": "python",
   "nbconvert_exporter": "python",
   "pygments_lexer": "ipython3",
   "version": "3.11.0"
  }
 },
 "nbformat": 4,
 "nbformat_minor": 2
}
