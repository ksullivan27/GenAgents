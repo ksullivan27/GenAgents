{
 "cells": [
  {
   "cell_type": "code",
   "execution_count": 1,
   "metadata": {},
   "outputs": [],
   "source": [
    "from sklearn.metrics.pairwise import cosine_similarity\n",
    "import json\n",
    "import numpy as np\n",
    "import sys\n",
    "sys.path.insert(0, \"../\")"
   ]
  },
  {
   "cell_type": "code",
   "execution_count": 2,
   "metadata": {},
   "outputs": [
    {
     "name": "stdout",
     "output_type": "stream",
     "text": [
      "You didn't set your OPENAI_API_KEY on the command line.\n"
     ]
    }
   ],
   "source": [
    "import openai\n",
    "\n",
    "import os\n",
    "from getpass import getpass\n",
    "\n",
    "if 'OPENAI_API_KEY' not in os.environ:\n",
    "    print(\"You didn't set your OPENAI_API_KEY on the command line.\")\n",
    "    os.environ['OPENAI_API_KEY'] = getpass(\"Please enter your OpenAI API Key: \")"
   ]
  },
  {
   "cell_type": "markdown",
   "metadata": {},
   "source": [
    "## Trialing stuff"
   ]
  },
  {
   "cell_type": "code",
   "execution_count": 12,
   "metadata": {},
   "outputs": [
    {
     "ename": "FileNotFoundError",
     "evalue": "[Errno 2] No such file or directory: '../assets/character_traits.json'",
     "output_type": "error",
     "traceback": [
      "\u001b[0;31m---------------------------------------------------------------------------\u001b[0m",
      "\u001b[0;31mFileNotFoundError\u001b[0m                         Traceback (most recent call last)",
      "Cell \u001b[0;32mIn[12], line 1\u001b[0m\n\u001b[0;32m----> 1\u001b[0m \u001b[38;5;28;01mwith\u001b[39;00m \u001b[38;5;28;43mopen\u001b[39;49m\u001b[43m(\u001b[49m\u001b[38;5;124;43m\"\u001b[39;49m\u001b[38;5;124;43m../assets/character_traits.json\u001b[39;49m\u001b[38;5;124;43m\"\u001b[39;49m\u001b[43m,\u001b[49m\u001b[43m \u001b[49m\u001b[38;5;124;43m'\u001b[39;49m\u001b[38;5;124;43mr\u001b[39;49m\u001b[38;5;124;43m'\u001b[39;49m\u001b[43m)\u001b[49m \u001b[38;5;28;01mas\u001b[39;00m f:\n\u001b[1;32m      2\u001b[0m     characters \u001b[38;5;241m=\u001b[39m json\u001b[38;5;241m.\u001b[39mload(f)\n",
      "File \u001b[0;32m~/Desktop/UPenn/MSE_DataScience/Classes/Spring_2024/CIS7000-InteractiveFiction/SurvivorWorld/.venv/lib/python3.10/site-packages/IPython/core/interactiveshell.py:310\u001b[0m, in \u001b[0;36m_modified_open\u001b[0;34m(file, *args, **kwargs)\u001b[0m\n\u001b[1;32m    303\u001b[0m \u001b[38;5;28;01mif\u001b[39;00m file \u001b[38;5;129;01min\u001b[39;00m {\u001b[38;5;241m0\u001b[39m, \u001b[38;5;241m1\u001b[39m, \u001b[38;5;241m2\u001b[39m}:\n\u001b[1;32m    304\u001b[0m     \u001b[38;5;28;01mraise\u001b[39;00m \u001b[38;5;167;01mValueError\u001b[39;00m(\n\u001b[1;32m    305\u001b[0m         \u001b[38;5;124mf\u001b[39m\u001b[38;5;124m\"\u001b[39m\u001b[38;5;124mIPython won\u001b[39m\u001b[38;5;124m'\u001b[39m\u001b[38;5;124mt let you open fd=\u001b[39m\u001b[38;5;132;01m{\u001b[39;00mfile\u001b[38;5;132;01m}\u001b[39;00m\u001b[38;5;124m by default \u001b[39m\u001b[38;5;124m\"\u001b[39m\n\u001b[1;32m    306\u001b[0m         \u001b[38;5;124m\"\u001b[39m\u001b[38;5;124mas it is likely to crash IPython. If you know what you are doing, \u001b[39m\u001b[38;5;124m\"\u001b[39m\n\u001b[1;32m    307\u001b[0m         \u001b[38;5;124m\"\u001b[39m\u001b[38;5;124myou can use builtins\u001b[39m\u001b[38;5;124m'\u001b[39m\u001b[38;5;124m open.\u001b[39m\u001b[38;5;124m\"\u001b[39m\n\u001b[1;32m    308\u001b[0m     )\n\u001b[0;32m--> 310\u001b[0m \u001b[38;5;28;01mreturn\u001b[39;00m \u001b[43mio_open\u001b[49m\u001b[43m(\u001b[49m\u001b[43mfile\u001b[49m\u001b[43m,\u001b[49m\u001b[43m \u001b[49m\u001b[38;5;241;43m*\u001b[39;49m\u001b[43margs\u001b[49m\u001b[43m,\u001b[49m\u001b[43m \u001b[49m\u001b[38;5;241;43m*\u001b[39;49m\u001b[38;5;241;43m*\u001b[39;49m\u001b[43mkwargs\u001b[49m\u001b[43m)\u001b[49m\n",
      "\u001b[0;31mFileNotFoundError\u001b[0m: [Errno 2] No such file or directory: '../assets/character_traits.json'"
     ]
    }
   ],
   "source": [
    "\n",
    "\n",
    "with open(\"../assets/character_traits.json\", 'r') as f:\n",
    "    characters = json.load(f)"
   ]
  },
  {
   "cell_type": "code",
   "execution_count": null,
   "metadata": {},
   "outputs": [],
   "source": [
    "def get_text_embedding(client, text, model=\"text-embedding-3-small\"):\n",
    "    text_vector = client.embeddings.create(input=[text], model=model).data[0].embedding\n",
    "    return text_vector"
   ]
  },
  {
   "cell_type": "code",
   "execution_count": null,
   "metadata": {},
   "outputs": [],
   "source": [
    "embedded_characters = {}\n",
    "client = openai.Client()\n",
    "for i, c in enumerate(characters):\n",
    "    c_vec = get_text_embedding(client, c.__str__())\n",
    "    embedded_characters[i] = c_vec"
   ]
  },
  {
   "cell_type": "code",
   "execution_count": null,
   "metadata": {},
   "outputs": [],
   "source": [
    "\n",
    "def find_similar_character(query, characters, top_n=1):   \n",
    "    client = openai.Client() \n",
    "    query_vec = np.array(get_text_embedding(client, query))\n",
    "\n",
    "    sim = cosine_similarity(query_vec.reshape(1, -1), np.array([np.array(v) for v in characters.values()]))\n",
    "\n",
    "    idx = sorted(enumerate(sim[0]), key=lambda x: x[1], reverse=True)[:top_n][0][0]\n",
    "\n",
    "    return idx"
   ]
  },
  {
   "cell_type": "code",
   "execution_count": null,
   "metadata": {},
   "outputs": [],
   "source": [
    "idx = find_similar(query=\"a barista from the southwestern United States\",\n",
    "             characters=embedded_characters,\n",
    "             top_n=1)"
   ]
  },
  {
   "cell_type": "code",
   "execution_count": null,
   "metadata": {},
   "outputs": [],
   "source": [
    "characters[idx]"
   ]
  },
  {
   "cell_type": "code",
   "execution_count": null,
   "metadata": {},
   "outputs": [],
   "source": [
    "import numpy as np\n",
    "lst = [10, 20, 30, 100, -39]\n",
    "lst.extend(np.random.randint(0, 100, 3).tolist())"
   ]
  },
  {
   "cell_type": "code",
   "execution_count": null,
   "metadata": {},
   "outputs": [],
   "source": [
    "np.clip(lst, 0, 100)"
   ]
  },
  {
   "cell_type": "code",
   "execution_count": null,
   "metadata": {},
   "outputs": [],
   "source": [
    "from text_adventure_games.scales.base import BaseScale\n",
    "\n",
    "test_scale = BaseScale((\"Prejudicial\", \"Unbiased\"))"
   ]
  },
  {
   "cell_type": "code",
   "execution_count": null,
   "metadata": {},
   "outputs": [],
   "source": [
    "print(test_scale)"
   ]
  },
  {
   "cell_type": "code",
   "execution_count": null,
   "metadata": {},
   "outputs": [],
   "source": [
    "MONITORED_TRAITS = {\n",
    "        \"judgement\": (\"Prejudicial\", \"Unbiased\"),\n",
    "        \"cooperation\": (\"Stubborn\", \"Agreeable\"),\n",
    "        \"outlook\": (\"Pessimistic\", \"Optimistic\"),\n",
    "        \"initiative\": (\"Passive\", \"Assertive\"),\n",
    "        \"generosity\": (\"Selfish\", \"Generous\"),\n",
    "        \"social\": (\"Follower\", \"Learder\"),\n",
    "        \"mind\": (\"Creative\", \"Logical\"),\n",
    "        \"openness\": (\"Close-minded\", \"Open-minded\"),\n",
    "        \"stress\": (\"Anxious\", \"Calm\")\n",
    "    }\n",
    "\n",
    "scores = [i for i in range(10)]"
   ]
  },
  {
   "cell_type": "code",
   "execution_count": null,
   "metadata": {},
   "outputs": [],
   "source": [
    "print(*zip(MONITORED_TRAITS.items(), scores))"
   ]
  },
  {
   "cell_type": "code",
   "execution_count": null,
   "metadata": {},
   "outputs": [],
   "source": [
    "import os\n",
    "import json\n",
    "assets_path = \"../assets\"\n",
    "with open(os.path.join(assets_path, \"persona_profiles.json\"), \"r\") as pfs:\n",
    "    profiles = json.load(pfs)"
   ]
  },
  {
   "cell_type": "code",
   "execution_count": null,
   "metadata": {},
   "outputs": [],
   "source": [
    "archs = profiles['archetypes']"
   ]
  },
  {
   "cell_type": "code",
   "execution_count": null,
   "metadata": {},
   "outputs": [],
   "source": [
    "archs[0]"
   ]
  },
  {
   "cell_type": "code",
   "execution_count": null,
   "metadata": {},
   "outputs": [],
   "source": [
    "for a in archs:\n",
    "    for i, trait in enumerate(a[\"traits\"]):\n",
    "        trait.update({\"name\": names[i]})"
   ]
  },
  {
   "cell_type": "markdown",
   "metadata": {},
   "source": [
    "## Test Persona Creation"
   ]
  },
  {
   "cell_type": "code",
   "execution_count": null,
   "metadata": {},
   "outputs": [],
   "source": [
    "# imports\n",
    "from text_adventure_games import agent\n",
    "from text_adventure_games.utils import setup_agent, general, gpt"
   ]
  },
  {
   "cell_type": "markdown",
   "metadata": {},
   "source": [
    "### Test Get Existing Facts"
   ]
  },
  {
   "cell_type": "code",
   "execution_count": null,
   "metadata": {},
   "outputs": [
    {
     "name": "stdout",
     "output_type": "stream",
     "text": [
      "/Users/Sammy/Desktop/UPenn/MSE_DataScience/Classes/Spring_2024/CIS7000-InteractiveFiction/SurvivorWorld/text_adventure_games/assets\n"
     ]
    }
   ],
   "source": [
    "facts = setup_agent.get_or_create_base_facts(\"a barista from the united states\", make_new=False)\n",
    "assert facts == {'Name': 'Jacob Harrison',\n",
    " 'Age': 25,\n",
    " 'Likes': ['coffee brewing', 'indie music', 'baking', 'dogs', 'reading'],\n",
    " 'Dislikes': ['rude customers',\n",
    "  'early mornings',\n",
    "  'negativity',\n",
    "  'instant coffee'],\n",
    " 'Occupation': 'Barista',\n",
    " 'Home city': 'Philadelphia, Pennsylvania'}"
   ]
  },
  {
   "cell_type": "markdown",
   "metadata": {},
   "source": [
    "### Test Get new Facts"
   ]
  },
  {
   "cell_type": "code",
   "execution_count": null,
   "metadata": {},
   "outputs": [],
   "source": [
    "facts = setup_agent.get_or_create_base_facts(\"A scuba diver with a house boat\", make_new=True)"
   ]
  },
  {
   "cell_type": "code",
   "execution_count": null,
   "metadata": {},
   "outputs": [],
   "source": [
    "goals = {\"flex\": \"Spend time in the ocean\"}\n",
    "facts = {'Name': 'Jacob Harrison',\n",
    " 'Age': 25,\n",
    " 'Likes': ['coffee brewing', 'indie music', 'baking', 'dogs', 'reading'],\n",
    " 'Dislikes': ['rude customers',\n",
    "  'early mornings',\n",
    "  'negativity',\n",
    "  'instant coffee'],\n",
    " 'Occupation': 'Barista',\n",
    " 'Home city': 'Philadelphia, Pennsylvania'}"
   ]
  },
  {
   "cell_type": "markdown",
   "metadata": {},
   "source": [
    "### Test get archetype"
   ]
  },
  {
   "cell_type": "code",
   "execution_count": null,
   "metadata": {},
   "outputs": [
    {
     "name": "stdout",
     "output_type": "stream",
     "text": [
      "Asset path is set to: /Users/Sammy/Desktop/UPenn/MSE_DataScience/Classes/Spring_2024/CIS7000-InteractiveFiction/SurvivorWorld/text_adventure_games/assets\n"
     ]
    }
   ],
   "source": [
    "target_profile = general.get_archetype_profiles(\"Hubris\")"
   ]
  },
  {
   "cell_type": "markdown",
   "metadata": {},
   "source": [
    "### Creat a Persona"
   ]
  },
  {
   "cell_type": "code",
   "execution_count": null,
   "metadata": {},
   "outputs": [
    {
     "name": "stdout",
     "output_type": "stream",
     "text": [
      "Asset path is set to: /Users/Sammy/Desktop/UPenn/MSE_DataScience/Classes/Spring_2024/CIS7000-InteractiveFiction/SurvivorWorld/text_adventure_games/assets\n"
     ]
    }
   ],
   "source": [
    "p = setup_agent.create_persona(facts=facts, goals=goals, archetype=\"Hubris\")"
   ]
  },
  {
   "cell_type": "markdown",
   "metadata": {},
   "source": [
    "## Test GPT-Parser Integration"
   ]
  },
  {
   "cell_type": "code",
   "execution_count": 3,
   "metadata": {},
   "outputs": [],
   "source": [
    "import sys\n",
    "sys.path.insert(0, \"../..\")\n",
    "import action_castle\n",
    "from SurvivorWorld.text_adventure_games.parsing import GptParser3"
   ]
  },
  {
   "cell_type": "code",
   "execution_count": 4,
   "metadata": {},
   "outputs": [
    {
     "name": "stdout",
     "output_type": "stream",
     "text": [
      "sk-27...\n"
     ]
    }
   ],
   "source": [
    "game = action_castle.build_game(type=2)\n",
    "game.give_hints = True\n",
    "parser = GptParser3(game, verbose=False, model='gpt-4')"
   ]
  },
  {
   "cell_type": "code",
   "execution_count": 5,
   "metadata": {},
   "outputs": [
    {
     "name": "stdout",
     "output_type": "stream",
     "text": [
      "Chosen Command: describe\n",
      "You find yourself in a dimly lit, cozy room. The smell of pine and old parchment\n",
      "fills the air. A crackling fire in the stone hearth casts dancing shadows on the\n",
      "wooden walls. A well-worn rug lies underfoot, and a sturdy oak table stands in\n",
      "the center of the room, cluttered with maps and old books.\n",
      "\n",
      "To the north, a wooden door leads out to a garden path, overgrown with ivy and\n",
      "blooming with wildflowers. To the south, a narrow staircase spirals up into\n",
      "darkness.\n",
      "\n",
      "On the table, you see a brass key glinting in the firelight. Beside it, a\n",
      "leather-bound book lies open, its pages filled with ancient runes. A fishing\n",
      "pole leans against the wall, its line tangled in a heap on the floor.\n",
      "\n",
      "Exits: North (Garden Path), South (Spiral Staircase)\n",
      "\n",
      "Items: Brass Key, Ancient Book, Fishing Pole\n",
      "\n",
      "ROUND: 0.0\n",
      "The player is in Cottage\n",
      "\n",
      "troll is in Drawbridge\n",
      "\n",
      "guard is in Courtyard\n",
      "\n",
      "princess is in Tower\n",
      "\n",
      "ghost is in Dungeon\n",
      "\n",
      "Character: The player (id: 30)\n",
      "Chosen Command: get\n",
      "GPTParse selected item: 0\n",
      "You reach out and take the fishing pole. It's surprisingly light, the handle\n",
      "worn smooth from years of use. The line is tangled, but with a bit of patience,\n",
      "you could probably untangle it.\n",
      "\n",
      "You now have a fishing pole.\n",
      "\n",
      "Character: troll (id: 23)\n",
      "Chosen Command: go\n",
      "Found connections:  {0: ('west', 'Winding Path'), 1: ('east', 'Courtyard')}\n",
      "GPTParse selected direction: 0\n",
      "With the fishing pole in hand, you step out of the cottage and onto the garden\n",
      "path. The path is narrow and winding, bordered by a riot of wildflowers. The\n",
      "scent of blooming roses and honeysuckle fills the air.\n",
      "\n",
      "As you lumber along the path, you come upon a towering tree. Its gnarled\n",
      "branches reach up towards the sky, and its roots burrow deep into the earth. The\n",
      "tree is so tall that it seems to touch the clouds.\n",
      "\n",
      "To the south, the garden path continues, leading back towards the cottage. To\n",
      "the east, a drawbridge spans a wide, rushing river. Above you, the branches of\n",
      "the tall tree beckon, promising a breathtaking view.\n",
      "\n",
      "Exits: South (Garden Path), East (Drawbridge), Up (Top of the Tall Tree)\n",
      "\n",
      "Character: guard (id: 24)\n",
      "Chosen Command: inventory\n",
      "Inventory:\n",
      "* Fishing Pole\n",
      "\n",
      "Character: princess (id: 27)\n",
      "Chosen Command: describe\n",
      "You are standing at the base of the towering tree. The bark is rough under your\n",
      "fingers, and the branches above sway gently in the breeze.\n",
      "\n",
      "To the south, the garden path winds its way back to the cottage. To the east,\n",
      "the drawbridge spans a rushing river, leading to a distant castle. Above you,\n",
      "the tree's branches offer a way up, promising a breathtaking view of the\n",
      "surrounding area.\n",
      "\n",
      "Exits: South (Garden Path), East (Drawbridge), Up (Top of the Tall Tree)\n",
      "\n",
      "Items: None\n",
      "\n",
      "Character: ghost (id: 28)\n",
      "Chosen Command: get\n",
      "GPTParse selected item: 1\n",
      "Item index 1 not found in {}\n",
      "COMMAND FAILED\n",
      "I'm sorry, but there seems to be a misunderstanding. There is no crown visible\n",
      "in your current location. Perhaps you need to explore more areas or interact\n",
      "with the environment differently to find what you're looking for.\n",
      "\n",
      "COMMAND FAILED\n",
      "I'm sorry, but there doesn't seem to be a crown here for you to take. Perhaps\n",
      "it's located somewhere else, or maybe you need to do something specific to make\n",
      "it appear. Try exploring the area or interacting with the environment to see if\n",
      "you can find it.\n",
      "\n",
      "ROUND: 0.1\n",
      "The player is in Cottage\n",
      "\n",
      "troll is in Winding Path\n",
      "\n",
      "guard is in Courtyard\n",
      "\n",
      "princess is in Tower\n",
      "\n",
      "ghost is in Dungeon\n",
      "\n",
      "Character: The player (id: 30)\n",
      "Chosen Command: go\n",
      "Found connections:  {0: ('out', 'Garden Path')}\n",
      "GPTParse selected direction: 0\n",
      "Stepping out of the cottage, you head northward along the garden path. The scent\n",
      "of blooming flowers fills the air, and the soft rustle of leaves in the wind is\n",
      "the only sound.\n",
      "\n",
      "Suddenly, the path ends, and you find yourself standing before an ancient stone\n",
      "wall. It's covered in moss and ivy, and a heavy wooden door is set into the\n",
      "wall. A rusty iron ring serves as a handle.\n",
      "\n",
      "To the south, the garden path leads back to the cottage. To the north, the\n",
      "wooden door leads into what appears to be a dungeon.\n",
      "\n",
      "Exits: South (Garden Path), North (Dungeon)\n",
      "\n",
      "Items: None\n",
      "\n",
      "Character: troll (id: 23)\n",
      "Chosen Command: describe\n",
      "You are standing before the ancient stone wall and the heavy wooden door. The\n",
      "door is old and weathered, but it stands strong and firm. The moss and ivy\n",
      "covering the wall give it an eerie, ancient feel.\n",
      "\n",
      "To the south, the garden path winds its way back to the cottage. To the north,\n",
      "the wooden door leads into the dungeon. The door is closed, and a rusty iron\n",
      "ring serves as a handle.\n",
      "\n",
      "Exits: South (Garden Path), North (Dungeon)\n",
      "\n",
      "Items: None\n",
      "\n",
      "Character: guard (id: 24)\n",
      "Chosen Command: examine\n",
      "GPTParse selected item: -999\n",
      "You are in a grand feasting hall. The air is thick with the scent of roasted\n",
      "meats and sweet mead. A long table stretches down the center of the room, laden\n",
      "with platters of food and golden goblets. The walls are adorned with rich\n",
      "tapestries depicting scenes of heroic battles and mythical creatures.\n",
      "\n",
      "To the east, a grand staircase leads up to the castle's private quarters. To the\n",
      "west, a set of double doors leads out to the castle's courtyard.\n",
      "\n",
      "On the table, you see a golden goblet encrusted with jewels.\n",
      "\n",
      "Exits: East (Grand Staircase), West (Castle Courtyard)\n",
      "\n",
      "Items: Golden Goblet\n",
      "\n",
      "Character: princess (id: 27)\n",
      "Chosen Command: go\n",
      "Found connections:  {0: ('down', 'Tower Stairs')}\n",
      "GPTParse selected direction: 0\n",
      "You descend the grand staircase, the echo of your footsteps bouncing off the\n",
      "stone walls. The air grows cooler as you leave the warmth of the feasting hall\n",
      "behind.\n",
      "\n",
      "You find yourself in a narrow corridor, dimly lit by flickering torches. The\n",
      "walls are lined with ancient tapestries, their colors faded with time. The scent\n",
      "of damp stone fills the air.\n",
      "\n",
      "To the north, a heavy wooden door leads to the castle's dungeons. To the south,\n",
      "a smaller door leads to the castle's wine cellar.\n",
      "\n",
      "Exits: North (Dungeon), South (Wine Cellar)\n",
      "\n",
      "Items: None\n",
      "\n",
      "Character: ghost (id: 28)\n",
      "Chosen Command: describe\n",
      "You are standing in a narrow, dimly lit corridor. The air is cool and damp, and\n",
      "the flickering torchlight casts long shadows on the stone walls.\n",
      "\n",
      "To the north, a heavy wooden door leads to the castle's dungeons. The door is\n",
      "closed, and a rusty iron ring serves as a handle. To the south, a smaller door\n",
      "leads to the castle's wine cellar. The door is slightly ajar, and a faint scent\n",
      "of aged wine wafts from within.\n",
      "\n",
      "Exits: North (Dungeon), South (Wine Cellar)\n",
      "\n",
      "Items: None\n",
      "\n",
      "ROUND: 0.2\n",
      "The player is in Garden Path\n",
      "\n",
      "troll is in Winding Path\n",
      "\n",
      "guard is in Courtyard\n",
      "\n",
      "princess is in Tower Stairs\n",
      "\n",
      "ghost is in Dungeon\n",
      "\n",
      "Character: The player (id: 30)\n",
      "Chosen Command: go\n",
      "Found connections:  {0: ('in', 'Cottage'), 1: ('south', 'Fishing Pond'), 2: ('north', 'Winding Path')}\n",
      "GPTParse selected direction: 2\n",
      "With a deep breath, you grasp the rusty iron ring and pull the heavy wooden door\n",
      "open. It creaks loudly, echoing through the silent castle.\n",
      "\n",
      "You step into the castle's dungeons. The air is damp and cold, and the faint\n",
      "sound of dripping water echoes off the stone walls. The only light comes from a\n",
      "small, barred window high up on the wall.\n",
      "\n",
      "In the center of the room, a ghostly figure floats in the air. It's a spooky\n",
      "ghost, its ethereal form flickering in the dim light.\n",
      "\n",
      "Exits: South (Corridor), Up (Dungeon Stairs)\n",
      "\n",
      "Items: None\n",
      "\n",
      "Character: troll (id: 23)\n"
     ]
    }
   ],
   "source": [
    "game.set_parser(parser)\n",
    "parser.refresh_command_list()\n",
    "try:\n",
    "    game.game_loop()\n",
    "except openai.APIConnectionError:\n",
    "    print(\"Could not connect to OpenAI API\")"
   ]
  }
 ],
 "metadata": {
  "kernelspec": {
   "display_name": ".venv",
   "language": "python",
   "name": "python3"
  },
  "language_info": {
   "codemirror_mode": {
    "name": "ipython",
    "version": 3
   },
   "file_extension": ".py",
   "mimetype": "text/x-python",
   "name": "python",
   "nbconvert_exporter": "python",
   "pygments_lexer": "ipython3",
   "version": "3.10.6"
  }
 },
 "nbformat": 4,
 "nbformat_minor": 2
}
