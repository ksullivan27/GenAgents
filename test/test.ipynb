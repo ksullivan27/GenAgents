{
 "cells": [
  {
   "cell_type": "code",
   "execution_count": 1,
   "metadata": {},
   "outputs": [],
   "source": [
    "from sklearn.metrics.pairwise import cosine_similarity\n",
    "import json\n",
    "import numpy as np\n",
    "import sys\n",
    "sys.path.insert(0, \"../\")"
   ]
  },
  {
   "cell_type": "code",
   "execution_count": 2,
   "metadata": {},
   "outputs": [
    {
     "name": "stdout",
     "output_type": "stream",
     "text": [
      "You didn't set your OPENAI_API_KEY on the command line.\n"
     ]
    }
   ],
   "source": [
    "import openai\n",
    "\n",
    "import os\n",
    "from getpass import getpass\n",
    "\n",
    "if 'OPENAI_API_KEY' not in os.environ:\n",
    "    print(\"You didn't set your OPENAI_API_KEY on the command line.\")\n",
    "    os.environ['OPENAI_API_KEY'] = getpass(\"Please enter your OpenAI API Key: \")"
   ]
  },
  {
   "cell_type": "markdown",
   "metadata": {},
   "source": [
    "## Trialing stuff"
   ]
  },
  {
   "cell_type": "code",
   "execution_count": null,
   "metadata": {},
   "outputs": [],
   "source": [
    "\n",
    "\n",
    "with open(\"../assets/character_traits.json\", 'r') as f:\n",
    "    characters = json.load(f)"
   ]
  },
  {
   "cell_type": "code",
   "execution_count": null,
   "metadata": {},
   "outputs": [],
   "source": [
    "def get_text_embedding(client, text, model=\"text-embedding-3-small\"):\n",
    "    text_vector = client.embeddings.create(input=[text], model=model).data[0].embedding\n",
    "    return text_vector"
   ]
  },
  {
   "cell_type": "code",
   "execution_count": null,
   "metadata": {},
   "outputs": [],
   "source": [
    "embedded_characters = {}\n",
    "client = openai.Client()\n",
    "for i, c in enumerate(characters):\n",
    "    c_vec = get_text_embedding(client, c.__str__())\n",
    "    embedded_characters[i] = c_vec"
   ]
  },
  {
   "cell_type": "code",
   "execution_count": null,
   "metadata": {},
   "outputs": [],
   "source": [
    "\n",
    "def find_similar_character(query, characters, top_n=1):   \n",
    "    client = openai.Client() \n",
    "    query_vec = np.array(get_text_embedding(client, query))\n",
    "\n",
    "    sim = cosine_similarity(query_vec.reshape(1, -1), np.array([np.array(v) for v in characters.values()]))\n",
    "\n",
    "    idx = sorted(enumerate(sim[0]), key=lambda x: x[1], reverse=True)[:top_n][0][0]\n",
    "\n",
    "    return idx"
   ]
  },
  {
   "cell_type": "code",
   "execution_count": null,
   "metadata": {},
   "outputs": [],
   "source": [
    "idx = find_similar(query=\"a barista from the southwestern United States\",\n",
    "             characters=embedded_characters,\n",
    "             top_n=1)"
   ]
  },
  {
   "cell_type": "code",
   "execution_count": null,
   "metadata": {},
   "outputs": [],
   "source": [
    "characters[idx]"
   ]
  },
  {
   "cell_type": "code",
   "execution_count": null,
   "metadata": {},
   "outputs": [],
   "source": [
    "import numpy as np\n",
    "lst = [10, 20, 30, 100, -39]\n",
    "lst.extend(np.random.randint(0, 100, 3).tolist())"
   ]
  },
  {
   "cell_type": "code",
   "execution_count": null,
   "metadata": {},
   "outputs": [],
   "source": [
    "np.clip(lst, 0, 100)"
   ]
  },
  {
   "cell_type": "code",
   "execution_count": null,
   "metadata": {},
   "outputs": [],
   "source": [
    "from text_adventure_games.scales.base import BaseScale\n",
    "\n",
    "test_scale = BaseScale((\"Prejudicial\", \"Unbiased\"))"
   ]
  },
  {
   "cell_type": "code",
   "execution_count": null,
   "metadata": {},
   "outputs": [],
   "source": [
    "print(test_scale)"
   ]
  },
  {
   "cell_type": "code",
   "execution_count": null,
   "metadata": {},
   "outputs": [],
   "source": [
    "MONITORED_TRAITS = {\n",
    "        \"judgement\": (\"Prejudicial\", \"Unbiased\"),\n",
    "        \"cooperation\": (\"Stubborn\", \"Agreeable\"),\n",
    "        \"outlook\": (\"Pessimistic\", \"Optimistic\"),\n",
    "        \"initiative\": (\"Passive\", \"Assertive\"),\n",
    "        \"generosity\": (\"Selfish\", \"Generous\"),\n",
    "        \"social\": (\"Follower\", \"Learder\"),\n",
    "        \"mind\": (\"Creative\", \"Logical\"),\n",
    "        \"openness\": (\"Close-minded\", \"Open-minded\"),\n",
    "        \"stress\": (\"Anxious\", \"Calm\")\n",
    "    }\n",
    "\n",
    "scores = [i for i in range(10)]"
   ]
  },
  {
   "cell_type": "code",
   "execution_count": null,
   "metadata": {},
   "outputs": [],
   "source": [
    "print(*zip(MONITORED_TRAITS.items(), scores))"
   ]
  },
  {
   "cell_type": "code",
   "execution_count": null,
   "metadata": {},
   "outputs": [],
   "source": [
    "import os\n",
    "import json\n",
    "assets_path = \"../assets\"\n",
    "with open(os.path.join(assets_path, \"persona_profiles.json\"), \"r\") as pfs:\n",
    "    profiles = json.load(pfs)"
   ]
  },
  {
   "cell_type": "code",
   "execution_count": null,
   "metadata": {},
   "outputs": [],
   "source": [
    "archs = profiles['archetypes']"
   ]
  },
  {
   "cell_type": "code",
   "execution_count": null,
   "metadata": {},
   "outputs": [],
   "source": [
    "archs[0]"
   ]
  },
  {
   "cell_type": "code",
   "execution_count": null,
   "metadata": {},
   "outputs": [],
   "source": [
    "for a in archs:\n",
    "    for i, trait in enumerate(a[\"traits\"]):\n",
    "        trait.update({\"name\": names[i]})"
   ]
  },
  {
   "cell_type": "markdown",
   "metadata": {},
   "source": [
    "## Test Persona Creation"
   ]
  },
  {
   "cell_type": "code",
   "execution_count": null,
   "metadata": {},
   "outputs": [],
   "source": [
    "# imports\n",
    "from text_adventure_games import agent\n",
    "from text_adventure_games.utils import setup_agent, general, gpt"
   ]
  },
  {
   "cell_type": "markdown",
   "metadata": {},
   "source": [
    "### Test Get Existing Facts"
   ]
  },
  {
   "cell_type": "code",
   "execution_count": null,
   "metadata": {},
   "outputs": [],
   "source": [
    "facts = setup_agent.get_or_create_base_facts(\"a barista from the united states\", make_new=False)\n",
    "assert facts == {'Name': 'Jacob Harrison',\n",
    " 'Age': 25,\n",
    " 'Likes': ['coffee brewing', 'indie music', 'baking', 'dogs', 'reading'],\n",
    " 'Dislikes': ['rude customers',\n",
    "  'early mornings',\n",
    "  'negativity',\n",
    "  'instant coffee'],\n",
    " 'Occupation': 'Barista',\n",
    " 'Home city': 'Philadelphia, Pennsylvania'}"
   ]
  },
  {
   "cell_type": "markdown",
   "metadata": {},
   "source": [
    "### Test Get new Facts"
   ]
  },
  {
   "cell_type": "code",
   "execution_count": null,
   "metadata": {},
   "outputs": [],
   "source": [
    "facts = setup_agent.get_or_create_base_facts(\"A scuba diver with a house boat\", make_new=True)"
   ]
  },
  {
   "cell_type": "code",
   "execution_count": null,
   "metadata": {},
   "outputs": [],
   "source": [
    "goals = {\"flex\": \"Spend time in the ocean\"}\n",
    "facts = {'Name': 'Jacob Harrison',\n",
    " 'Age': 25,\n",
    " 'Likes': ['coffee brewing', 'indie music', 'baking', 'dogs', 'reading'],\n",
    " 'Dislikes': ['rude customers',\n",
    "  'early mornings',\n",
    "  'negativity',\n",
    "  'instant coffee'],\n",
    " 'Occupation': 'Barista',\n",
    " 'Home city': 'Philadelphia, Pennsylvania'}"
   ]
  },
  {
   "cell_type": "markdown",
   "metadata": {},
   "source": [
    "### Test get archetype"
   ]
  },
  {
   "cell_type": "code",
   "execution_count": null,
   "metadata": {},
   "outputs": [],
   "source": [
    "target_profile = general.get_archetype_profiles(\"Hubris\")"
   ]
  },
  {
   "cell_type": "markdown",
   "metadata": {},
   "source": [
    "### Creat a Persona"
   ]
  },
  {
   "cell_type": "code",
   "execution_count": null,
   "metadata": {},
   "outputs": [],
   "source": [
    "p = setup_agent.create_persona(facts=facts, goals=goals, archetype=\"Hubris\")"
   ]
  },
  {
   "cell_type": "markdown",
   "metadata": {},
   "source": [
    "## Spacy parsing of game commands"
   ]
  },
  {
   "cell_type": "code",
   "execution_count": 5,
   "metadata": {},
   "outputs": [],
   "source": [
    "import spacy\n",
    "from collections import defaultdict"
   ]
  },
  {
   "cell_type": "code",
   "execution_count": 6,
   "metadata": {},
   "outputs": [],
   "source": [
    "nlp = spacy.load('en_core_web_sm')"
   ]
  },
  {
   "cell_type": "code",
   "execution_count": 4,
   "metadata": {},
   "outputs": [],
   "source": [
    "def extract_key_deps(text):\n",
    "    characters = {\"troll\" : \"a mean troll\",\n",
    "                  \"player\": \"the main characater\"}\n",
    "    doc = nlp(text)\n",
    "    keys = defaultdict(list)\n",
    "    for w in doc:\n",
    "        if \"subj\" in w.dep_:\n",
    "            if w.text in characters:\n",
    "                keys['characters'].append(w.text)\n",
    "            else:\n",
    "                keys['misc_deps'].append(w.text)\n",
    "        if \"obj\" in w.dep_:\n",
    "            if w.text in characters:\n",
    "                keys['characters'].append(w.text)\n",
    "            else:\n",
    "                keys['objects'].append(w.text)\n",
    "    return keys"
   ]
  },
  {
   "cell_type": "code",
   "execution_count": 7,
   "metadata": {},
   "outputs": [
    {
     "data": {
      "text/plain": [
       "'The troll attempted to give the fishing pole to You, but failed.'"
      ]
     },
     "execution_count": 7,
     "metadata": {},
     "output_type": "execute_result"
    }
   ],
   "source": [
    "import re\n",
    "re.sub(\"the player\", \"You\", \"The troll attempted to give the fishing pole to the player, but failed.\")"
   ]
  },
  {
   "cell_type": "code",
   "execution_count": 6,
   "metadata": {},
   "outputs": [
    {
     "data": {
      "text/plain": [
       "defaultdict(list, {'objects': ['Cottage', 'Path'], 'characters': ['player']})"
      ]
     },
     "execution_count": 6,
     "metadata": {},
     "output_type": "execute_result"
    }
   ],
   "source": [
    "deps = extract_key_deps(\"From Cottage The player could go out to Garden Path\")\n",
    "deps"
   ]
  },
  {
   "cell_type": "code",
   "execution_count": 8,
   "metadata": {},
   "outputs": [
    {
     "data": {
      "text/plain": [
       "['location: The player is at A small cottage.',\n",
       " 'exits: From Cottage The player could go: Out to Garden Path, ',\n",
       " 'items: ',\n",
       " 'characters: The player sees characters: A motherly figure, ',\n",
       " '']"
      ]
     },
     "execution_count": 8,
     "metadata": {},
     "output_type": "execute_result"
    }
   ],
   "source": [
    "s = 'location: The player is at A small cottage.\\nexits: From Cottage The player could go: Out to Garden Path, \\nitems: \\ncharacters: The player sees characters: A motherly figure, \\n'\n",
    "re.split('\\n+', s)"
   ]
  },
  {
   "cell_type": "code",
   "execution_count": 9,
   "metadata": {},
   "outputs": [],
   "source": [
    "def parse_location_description(text):\n",
    "    by_description_type = re.split('\\n+', text)\n",
    "    new_observations = {}\n",
    "    if len(by_description_type) >= 1:\n",
    "        desc_type, loc = map(lambda x: x.strip(), by_description_type[0].split(\":\"))\n",
    "        new_observations[desc_type] = loc\n",
    "        for description in by_description_type[1:]:\n",
    "            if description:\n",
    "                try: \n",
    "                    desc_type, player, observed = map(lambda x: x.strip(), description.split(\":\"))\n",
    "                except ValueError:\n",
    "                    # Likely not enough values to unpack\n",
    "                    desc_type = description.split(\":\")[0]\n",
    "                    new_observations[desc_type] = f'No {desc_type} here'\n",
    "                    continue\n",
    "                if \"(\" in observed:\n",
    "                    new_observations[desc_type] = [f\"{player} {obs}\" for obs in observed.split(';') if obs]\n",
    "                else:\n",
    "                    new_observations[desc_type] = [f\"{player} {obs}\" for obs in observed.split(',') if obs]\n",
    "    return new_observations"
   ]
  },
  {
   "cell_type": "code",
   "execution_count": 10,
   "metadata": {},
   "outputs": [
    {
     "data": {
      "text/plain": [
       "{'location': ' The player is at A small cottage.',\n",
       " 'exits': [' From Cottage The player could go  Out to Garden Path',\n",
       "  ' From Cottage The player could go  '],\n",
       " 'items': 'No items here',\n",
       " 'characters': [' The player sees characters  A motherly figure',\n",
       "  ' The player sees characters  ']}"
      ]
     },
     "execution_count": 10,
     "metadata": {},
     "output_type": "execute_result"
    }
   ],
   "source": [
    "parse_location_description(s)"
   ]
  },
  {
   "cell_type": "markdown",
   "metadata": {},
   "source": [
    "## Test GPT-Parser Integration"
   ]
  },
  {
   "cell_type": "code",
   "execution_count": 2,
   "metadata": {},
   "outputs": [
    {
     "name": "stdout",
     "output_type": "stream",
     "text": [
      "sk-27...\n",
      "sk-27...\n"
     ]
    }
   ],
   "source": [
    "import sys\n",
    "import openai\n",
    "sys.path.insert(0, \"../..\")\n",
    "import action_castle\n",
    "from SurvivorWorld.text_adventure_games.parsing import GptParser3\n",
    "from SurvivorWorld.text_adventure_games.things import Character"
   ]
  },
  {
   "cell_type": "code",
   "execution_count": 3,
   "metadata": {},
   "outputs": [
    {
     "name": "stdout",
     "output_type": "stream",
     "text": [
      "Adding custom actions\n",
      "sk-27...\n"
     ]
    },
    {
     "data": {
      "text/plain": [
       "<SurvivorWorld.text_adventure_games.parsing.GptParser3 at 0x11e613af0>"
      ]
     },
     "execution_count": 3,
     "metadata": {},
     "output_type": "execute_result"
    }
   ],
   "source": [
    "#game = action_castle.build_game(type=2)\n",
    "game = action_castle.build_mini_game()\n",
    "game.give_hints = True\n",
    "parser = GptParser3(game, verbose=False, model='gpt-4')\n",
    "game.set_parser(parser)\n",
    "parser.refresh_command_list()"
   ]
  },
  {
   "cell_type": "code",
   "execution_count": 4,
   "metadata": {},
   "outputs": [
    {
     "name": "stdout",
     "output_type": "stream",
     "text": [
      "ROUND: 0.0\n",
      "Character: The player (id: 7)\n",
      "location: The player is at A small cottage.\n",
      "exits: From Cottage The player could go: Out to Garden Path, \n",
      "items: \n",
      "characters: The player sees characters: A motherly figure, \n",
      "\n",
      "['location: The player is at A small cottage.\\nexits: From Cottage The player could go: Out to Garden Path, \\nitems: \\ncharacters: The player sees characters: A motherly figure, \\n']\n",
      "Chosen Command: describe\n"
     ]
    },
    {
     "ename": "AttributeError",
     "evalue": "'list' object has no attribute 'add_memory'",
     "output_type": "error",
     "traceback": [
      "\u001b[0;31m---------------------------------------------------------------------------\u001b[0m",
      "\u001b[0;31mAttributeError\u001b[0m                            Traceback (most recent call last)",
      "Cell \u001b[0;32mIn[4], line 2\u001b[0m\n\u001b[1;32m      1\u001b[0m \u001b[38;5;28;01mtry\u001b[39;00m:\n\u001b[0;32m----> 2\u001b[0m     \u001b[43mgame\u001b[49m\u001b[38;5;241;43m.\u001b[39;49m\u001b[43mgame_loop\u001b[49m\u001b[43m(\u001b[49m\u001b[43m)\u001b[49m\n\u001b[1;32m      3\u001b[0m \u001b[38;5;28;01mexcept\u001b[39;00m openai\u001b[38;5;241m.\u001b[39mAPIConnectionError:\n\u001b[1;32m      4\u001b[0m     \u001b[38;5;28mprint\u001b[39m(\u001b[38;5;124m\"\u001b[39m\u001b[38;5;124mCould not connect to OpenAI API\u001b[39m\u001b[38;5;124m\"\u001b[39m)\n",
      "File \u001b[0;32m~/Desktop/UPenn/MSE_DataScience/Classes/Spring_2024/CIS7000-InteractiveFiction/SurvivorWorld/test/../../SurvivorWorld/text_adventure_games/games.py:488\u001b[0m, in \u001b[0;36mSurvivorGame.game_loop\u001b[0;34m(self)\u001b[0m\n\u001b[1;32m    482\u001b[0m                 command \u001b[38;5;241m=\u001b[39m character\u001b[38;5;241m.\u001b[39mengage(\u001b[38;5;28mself\u001b[39m,\n\u001b[1;32m    483\u001b[0m                                            \u001b[38;5;28mround\u001b[39m, \n\u001b[1;32m    484\u001b[0m                                            tick, \n\u001b[1;32m    485\u001b[0m                                            \u001b[38;5;66;03m# vote\u001b[39;00m\n\u001b[1;32m    486\u001b[0m                                            )\n\u001b[1;32m    487\u001b[0m                 \u001b[38;5;66;03m# command = input(\"\\n>\")\u001b[39;00m\n\u001b[0;32m--> 488\u001b[0m             success \u001b[38;5;241m=\u001b[39m \u001b[38;5;28;43mself\u001b[39;49m\u001b[38;5;241;43m.\u001b[39;49m\u001b[43mparser\u001b[49m\u001b[38;5;241;43m.\u001b[39;49m\u001b[43mparse_command\u001b[49m\u001b[43m(\u001b[49m\u001b[43mcommand\u001b[49m\u001b[43m,\u001b[49m\n\u001b[1;32m    489\u001b[0m \u001b[43m                                                \u001b[49m\u001b[43mcharacter\u001b[49m\u001b[43m,\u001b[49m\n\u001b[1;32m    490\u001b[0m \u001b[43m                                                \u001b[49m\u001b[38;5;66;43;03m#   round,\u001b[39;49;00m\n\u001b[1;32m    491\u001b[0m \u001b[43m                                                \u001b[49m\u001b[38;5;66;43;03m#   tick\u001b[39;49;00m\n\u001b[1;32m    492\u001b[0m \u001b[43m                                                \u001b[49m\u001b[43m)\u001b[49m\n\u001b[1;32m    494\u001b[0m \u001b[38;5;28;01mif\u001b[39;00m \u001b[38;5;28mself\u001b[39m\u001b[38;5;241m.\u001b[39mis_game_over():\n\u001b[1;32m    495\u001b[0m     \u001b[38;5;28;01mbreak\u001b[39;00m\n",
      "File \u001b[0;32m~/Desktop/UPenn/MSE_DataScience/Classes/Spring_2024/CIS7000-InteractiveFiction/SurvivorWorld/test/../../SurvivorWorld/text_adventure_games/parsing.py:197\u001b[0m, in \u001b[0;36mParser.parse_command\u001b[0;34m(self, command, character)\u001b[0m\n\u001b[1;32m    195\u001b[0m     \u001b[38;5;28;01mreturn\u001b[39;00m \u001b[38;5;28;01mFalse\u001b[39;00m\n\u001b[1;32m    196\u001b[0m \u001b[38;5;28;01melse\u001b[39;00m:\n\u001b[0;32m--> 197\u001b[0m     \u001b[43maction\u001b[49m\u001b[43m(\u001b[49m\u001b[43m)\u001b[49m\n\u001b[1;32m    198\u001b[0m     \u001b[38;5;28;01mreturn\u001b[39;00m \u001b[38;5;28;01mTrue\u001b[39;00m\n",
      "File \u001b[0;32m~/Desktop/UPenn/MSE_DataScience/Classes/Spring_2024/CIS7000-InteractiveFiction/SurvivorWorld/test/../../SurvivorWorld/text_adventure_games/actions/base.py:44\u001b[0m, in \u001b[0;36mAction.__call__\u001b[0;34m(self)\u001b[0m\n\u001b[1;32m     42\u001b[0m \u001b[38;5;28;01mdef\u001b[39;00m \u001b[38;5;21m__call__\u001b[39m(\u001b[38;5;28mself\u001b[39m):\n\u001b[1;32m     43\u001b[0m     \u001b[38;5;28;01mif\u001b[39;00m \u001b[38;5;28mself\u001b[39m\u001b[38;5;241m.\u001b[39mcheck_preconditions():\n\u001b[0;32m---> 44\u001b[0m         \u001b[38;5;28;01mreturn\u001b[39;00m \u001b[38;5;28;43mself\u001b[39;49m\u001b[38;5;241;43m.\u001b[39;49m\u001b[43mapply_effects\u001b[49m\u001b[43m(\u001b[49m\u001b[43m)\u001b[49m\n",
      "File \u001b[0;32m~/Desktop/UPenn/MSE_DataScience/Classes/Spring_2024/CIS7000-InteractiveFiction/SurvivorWorld/test/../../SurvivorWorld/text_adventure_games/actions/base.py:307\u001b[0m, in \u001b[0;36mDescribe.apply_effects\u001b[0;34m(self)\u001b[0m\n\u001b[1;32m    306\u001b[0m \u001b[38;5;28;01mdef\u001b[39;00m \u001b[38;5;21mapply_effects\u001b[39m(\u001b[38;5;28mself\u001b[39m):\n\u001b[0;32m--> 307\u001b[0m     \u001b[38;5;28;43mself\u001b[39;49m\u001b[38;5;241;43m.\u001b[39;49m\u001b[43mparser\u001b[49m\u001b[38;5;241;43m.\u001b[39;49m\u001b[43mok\u001b[49m\u001b[43m(\u001b[49m\u001b[38;5;28;43mself\u001b[39;49m\u001b[38;5;241;43m.\u001b[39;49m\u001b[43mcommand\u001b[49m\u001b[43m,\u001b[49m\u001b[43m \u001b[49m\u001b[38;5;28;43mself\u001b[39;49m\u001b[38;5;241;43m.\u001b[39;49m\u001b[43mgame\u001b[49m\u001b[38;5;241;43m.\u001b[39;49m\u001b[43mdescribe\u001b[49m\u001b[43m(\u001b[49m\u001b[43m)\u001b[49m\u001b[43m,\u001b[49m\u001b[43m \u001b[49m\u001b[38;5;28;43mself\u001b[39;49m\u001b[38;5;241;43m.\u001b[39;49m\u001b[43mcharacter\u001b[49m\u001b[43m)\u001b[49m\n",
      "File \u001b[0;32m~/Desktop/UPenn/MSE_DataScience/Classes/Spring_2024/CIS7000-InteractiveFiction/SurvivorWorld/test/../../SurvivorWorld/text_adventure_games/parsing.py:543\u001b[0m, in \u001b[0;36mGptParser.ok\u001b[0;34m(self, command, description, thing)\u001b[0m\n\u001b[1;32m    541\u001b[0m     keywords \u001b[38;5;241m=\u001b[39m \u001b[38;5;28mself\u001b[39m\u001b[38;5;241m.\u001b[39mextract_keywords(summary_of_action)\n\u001b[1;32m    542\u001b[0m     \u001b[38;5;66;03m# TODO: ensure that we can set the correct type of memory node\u001b[39;00m\n\u001b[0;32m--> 543\u001b[0m     \u001b[38;5;28;43mself\u001b[39;49m\u001b[38;5;241;43m.\u001b[39;49m\u001b[43madd_command_to_history\u001b[49m\u001b[43m(\u001b[49m\u001b[43msummary_of_action\u001b[49m\u001b[43m,\u001b[49m\u001b[43m \u001b[49m\n\u001b[1;32m    544\u001b[0m \u001b[43m                                \u001b[49m\u001b[43mkeywords\u001b[49m\u001b[43m,\u001b[49m\u001b[43m \u001b[49m\n\u001b[1;32m    545\u001b[0m \u001b[43m                                \u001b[49m\u001b[43mthing\u001b[49m\u001b[43m,\u001b[49m\u001b[43m  \u001b[49m\n\u001b[1;32m    546\u001b[0m \u001b[43m                                \u001b[49m\u001b[43mimportance_of_action\u001b[49m\u001b[43m,\u001b[49m\n\u001b[1;32m    547\u001b[0m \u001b[43m                                \u001b[49m\u001b[43msuccess\u001b[49m\u001b[38;5;241;43m=\u001b[39;49m\u001b[38;5;28;43;01mTrue\u001b[39;49;00m\u001b[43m,\u001b[49m\u001b[43m \u001b[49m\n\u001b[1;32m    548\u001b[0m \u001b[43m                                \u001b[49m\u001b[38;5;28;43mtype\u001b[39;49m\u001b[38;5;241;43m=\u001b[39;49m\u001b[43mMemoryType\u001b[49m\u001b[38;5;241;43m.\u001b[39;49m\u001b[43mACTION\u001b[49m\u001b[43m)\u001b[49m\n\u001b[1;32m    550\u001b[0m \u001b[38;5;66;03m# system_instructions = \"\"\"You are the narrator for a text adventure game. \u001b[39;00m\n\u001b[1;32m    551\u001b[0m \u001b[38;5;66;03m# You create short, evocative descriptions of the scenes in the game.\u001b[39;00m\n\u001b[1;32m    552\u001b[0m \u001b[38;5;66;03m# Include descriptions of the items and exits available to the current player.\"\"\"\u001b[39;00m\n\u001b[1;32m    553\u001b[0m \n\u001b[1;32m    554\u001b[0m \u001b[38;5;66;03m# SECOND: we describe what has happened in the console\u001b[39;00m\n\u001b[1;32m    555\u001b[0m system_instructions \u001b[38;5;241m=\u001b[39m \u001b[38;5;124m\"\u001b[39m\u001b[38;5;124m\"\u001b[39m\u001b[38;5;241m.\u001b[39mjoin(\n\u001b[1;32m    556\u001b[0m     [\n\u001b[1;32m    557\u001b[0m         \u001b[38;5;124m\"\u001b[39m\u001b[38;5;124mYou are the narrator for a text adventure game. You create short, \u001b[39m\u001b[38;5;124m\"\u001b[39m,\n\u001b[0;32m   (...)\u001b[0m\n\u001b[1;32m    562\u001b[0m     ]\n\u001b[1;32m    563\u001b[0m )\n",
      "File \u001b[0;32m~/Desktop/UPenn/MSE_DataScience/Classes/Spring_2024/CIS7000-InteractiveFiction/SurvivorWorld/test/../../SurvivorWorld/text_adventure_games/parsing.py:506\u001b[0m, in \u001b[0;36mGptParser.add_command_to_history\u001b[0;34m(self, summary, keywords, character, importance, success, type)\u001b[0m\n\u001b[1;32m    504\u001b[0m chars_in_view \u001b[38;5;241m=\u001b[39m \u001b[38;5;28mself\u001b[39m\u001b[38;5;241m.\u001b[39mget_characters_in_view(character)\n\u001b[1;32m    505\u001b[0m \u001b[38;5;28;01mfor\u001b[39;00m char \u001b[38;5;129;01min\u001b[39;00m chars_in_view:\n\u001b[0;32m--> 506\u001b[0m     \u001b[43mchar\u001b[49m\u001b[38;5;241;43m.\u001b[39;49m\u001b[43mmemory\u001b[49m\u001b[38;5;241;43m.\u001b[39;49m\u001b[43madd_memory\u001b[49m(summary\u001b[38;5;241m.\u001b[39mlower(), \n\u001b[1;32m    507\u001b[0m                            keywords, \n\u001b[1;32m    508\u001b[0m                            character\u001b[38;5;241m.\u001b[39mlocation, \n\u001b[1;32m    509\u001b[0m                            success,\n\u001b[1;32m    510\u001b[0m                            importance, \n\u001b[1;32m    511\u001b[0m                            \u001b[38;5;28mtype\u001b[39m, \n\u001b[1;32m    512\u001b[0m                            char\u001b[38;5;241m.\u001b[39mname)\n",
      "\u001b[0;31mAttributeError\u001b[0m: 'list' object has no attribute 'add_memory'"
     ]
    }
   ],
   "source": [
    "try:\n",
    "    game.game_loop()\n",
    "except openai.APIConnectionError:\n",
    "    print(\"Could not connect to OpenAI API\")"
   ]
  }
 ],
 "metadata": {
  "kernelspec": {
   "display_name": ".venv",
   "language": "python",
   "name": "python3"
  },
  "language_info": {
   "codemirror_mode": {
    "name": "ipython",
    "version": 3
   },
   "file_extension": ".py",
   "mimetype": "text/x-python",
   "name": "python",
   "nbconvert_exporter": "python",
   "pygments_lexer": "ipython3",
   "version": "3.10.6"
  }
 },
 "nbformat": 4,
 "nbformat_minor": 2
}
