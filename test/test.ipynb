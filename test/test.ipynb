{
 "cells": [
  {
   "cell_type": "code",
   "execution_count": 11,
   "metadata": {},
   "outputs": [],
   "source": [
    "from sklearn.metrics.pairwise import cosine_similarity"
   ]
  },
  {
   "cell_type": "code",
   "execution_count": 9,
   "metadata": {},
   "outputs": [],
   "source": [
    "import openai\n",
    "\n",
    "import os\n",
    "from getpass import getpass\n",
    "\n",
    "if 'OPENAI_API_KEY' not in os.environ:\n",
    "    print(\"You didn't set your OPENAI_API_KEY on the command line.\")\n",
    "    os.environ['OPENAI_API_KEY'] = getpass(\"Please enter your OpenAI API Key: \")"
   ]
  },
  {
   "cell_type": "code",
   "execution_count": 10,
   "metadata": {},
   "outputs": [],
   "source": [
    "import json\n",
    "import numpy as np\n",
    "\n",
    "with open(\"../assets/character_traits.json\", 'r') as f:\n",
    "    characters = json.load(f)"
   ]
  },
  {
   "cell_type": "code",
   "execution_count": 13,
   "metadata": {},
   "outputs": [],
   "source": [
    "def get_text_embedding(client, text, model=\"text-embedding-3-small\"):\n",
    "    text_vector = client.embeddings.create(input=[text], model=model).data[0].embedding\n",
    "    return text_vector"
   ]
  },
  {
   "cell_type": "code",
   "execution_count": 14,
   "metadata": {},
   "outputs": [],
   "source": [
    "embedded_characters = {}\n",
    "client = openai.Client()\n",
    "for i, c in enumerate(characters):\n",
    "    c_vec = get_text_embedding(client, c.__str__())\n",
    "    embedded_characters[i] = c_vec"
   ]
  },
  {
   "cell_type": "code",
   "execution_count": 29,
   "metadata": {},
   "outputs": [],
   "source": [
    "\n",
    "def find_similar_character(query, characters, top_n=1):   \n",
    "    client = openai.Client() \n",
    "    query_vec = np.array(get_text_embedding(client, query))\n",
    "\n",
    "    sim = cosine_similarity(query_vec.reshape(1, -1), np.array([np.array(v) for v in characters.values()]))\n",
    "\n",
    "    idx = sorted(enumerate(sim[0]), key=lambda x: x[1], reverse=True)[:top_n][0][0]\n",
    "\n",
    "    return idx"
   ]
  },
  {
   "cell_type": "code",
   "execution_count": 30,
   "metadata": {},
   "outputs": [],
   "source": [
    "idx = find_similar(query=\"a barista from the southwestern United States\",\n",
    "             characters=embedded_characters,\n",
    "             top_n=1)"
   ]
  },
  {
   "cell_type": "code",
   "execution_count": 32,
   "metadata": {},
   "outputs": [
    {
     "data": {
      "text/plain": [
       "{'Name': 'Jacob Harrison',\n",
       " 'Age': 25,\n",
       " 'Likes': ['coffee brewing', 'indie music', 'baking', 'dogs', 'reading'],\n",
       " 'Dislikes': ['rude customers',\n",
       "  'early mornings',\n",
       "  'negativity',\n",
       "  'instant coffee'],\n",
       " 'Occupation': 'Barista',\n",
       " 'Home city': 'Philadelphia, Pennsylvania'}"
      ]
     },
     "execution_count": 32,
     "metadata": {},
     "output_type": "execute_result"
    }
   ],
   "source": [
    "characters[idx]"
   ]
  },
  {
   "cell_type": "code",
   "execution_count": 6,
   "metadata": {},
   "outputs": [],
   "source": [
    "import numpy as np\n",
    "lst = [10, 20, 30, 100, -39]\n",
    "lst.extend(np.random.randint(0, 100, 3).tolist())"
   ]
  },
  {
   "cell_type": "code",
   "execution_count": 8,
   "metadata": {},
   "outputs": [
    {
     "data": {
      "text/plain": [
       "array([ 10,  20,  30, 100,   0,  12,  43,  65])"
      ]
     },
     "execution_count": 8,
     "metadata": {},
     "output_type": "execute_result"
    }
   ],
   "source": [
    "np.clip(lst, 0, 100)"
   ]
  },
  {
   "cell_type": "code",
   "execution_count": 1,
   "metadata": {},
   "outputs": [],
   "source": [
    "import sys\n",
    "sys.path.insert(0, \"../\")\n",
    "from text_adventure_games.scales.base import BaseScale\n",
    "\n",
    "test_scale = BaseScale((\"Prejudicial\", \"Unbiased\"))"
   ]
  },
  {
   "cell_type": "code",
   "execution_count": 2,
   "metadata": {},
   "outputs": [
    {
     "name": "stdout",
     "output_type": "stream",
     "text": [
      "On a scale from 0 to 100, \n",
      "                   where 0 is Prejudicial\n",
      "                   and 100 is Unbiased,\n",
      "                   a score of 50\n"
     ]
    }
   ],
   "source": [
    "print(test_scale)"
   ]
  },
  {
   "cell_type": "code",
   "execution_count": 3,
   "metadata": {},
   "outputs": [],
   "source": [
    "MONITORED_TRAITS = {\n",
    "        \"judgement\": (\"Prejudicial\", \"Unbiased\"),\n",
    "        \"cooperation\": (\"Stubborn\", \"Agreeable\"),\n",
    "        \"outlook\": (\"Pessimistic\", \"Optimistic\"),\n",
    "        \"initiative\": (\"Passive\", \"Assertive\"),\n",
    "        \"generosity\": (\"Selfish\", \"Generous\"),\n",
    "        \"social\": (\"Follower\", \"Learder\"),\n",
    "        \"mind\": (\"Creative\", \"Logical\"),\n",
    "        \"openness\": (\"Close-minded\", \"Open-minded\"),\n",
    "        \"stress\": (\"Anxious\", \"Calm\")\n",
    "    }\n",
    "\n",
    "scores = [i for i in range(10)]"
   ]
  },
  {
   "cell_type": "code",
   "execution_count": 7,
   "metadata": {},
   "outputs": [
    {
     "name": "stdout",
     "output_type": "stream",
     "text": [
      "(('judgement', ('Prejudicial', 'Unbiased')), 0) (('cooperation', ('Stubborn', 'Agreeable')), 1) (('outlook', ('Pessimistic', 'Optimistic')), 2) (('initiative', ('Passive', 'Assertive')), 3) (('generosity', ('Selfish', 'Generous')), 4) (('social', ('Follower', 'Learder')), 5) (('mind', ('Creative', 'Logical')), 6) (('openness', ('Close-minded', 'Open-minded')), 7) (('stress', ('Anxious', 'Calm')), 8)\n"
     ]
    }
   ],
   "source": [
    "print(*zip(MONITORED_TRAITS.items(), scores))"
   ]
  },
  {
   "cell_type": "code",
   "execution_count": null,
   "metadata": {},
   "outputs": [],
   "source": []
  }
 ],
 "metadata": {
  "kernelspec": {
   "display_name": ".venv",
   "language": "python",
   "name": "python3"
  },
  "language_info": {
   "codemirror_mode": {
    "name": "ipython",
    "version": 3
   },
   "file_extension": ".py",
   "mimetype": "text/x-python",
   "name": "python",
   "nbconvert_exporter": "python",
   "pygments_lexer": "ipython3",
   "version": "3.10.6"
  }
 },
 "nbformat": 4,
 "nbformat_minor": 2
}
