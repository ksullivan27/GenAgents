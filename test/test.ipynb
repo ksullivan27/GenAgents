{
 "cells": [
  {
   "cell_type": "code",
   "execution_count": 1,
   "metadata": {},
   "outputs": [],
   "source": [
    "from sklearn.metrics.pairwise import cosine_similarity\n",
    "import json\n",
    "import numpy as np\n",
    "import sys\n",
    "sys.path.insert(0, \"../\")"
   ]
  },
  {
   "cell_type": "code",
   "execution_count": 2,
   "metadata": {},
   "outputs": [],
   "source": [
    "import openai\n",
    "\n",
    "import os\n",
    "from getpass import getpass\n",
    "\n",
    "if 'OPENAI_API_KEY' not in os.environ:\n",
    "    print(\"You didn't set your OPENAI_API_KEY on the command line.\")\n",
    "    os.environ['OPENAI_API_KEY'] = getpass(\"Please enter your OpenAI API Key: \")"
   ]
  },
  {
   "cell_type": "markdown",
   "metadata": {},
   "source": [
    "## Trialing stuff"
   ]
  },
  {
   "cell_type": "code",
   "execution_count": null,
   "metadata": {},
   "outputs": [],
   "source": [
    "\n",
    "\n",
    "with open(\"../assets/character_traits.json\", 'r') as f:\n",
    "    characters = json.load(f)"
   ]
  },
  {
   "cell_type": "code",
   "execution_count": null,
   "metadata": {},
   "outputs": [],
   "source": [
    "def get_text_embedding(client, text, model=\"text-embedding-3-small\"):\n",
    "    text_vector = client.embeddings.create(input=[text], model=model).data[0].embedding\n",
    "    return text_vector"
   ]
  },
  {
   "cell_type": "code",
   "execution_count": null,
   "metadata": {},
   "outputs": [],
   "source": [
    "embedded_characters = {}\n",
    "client = openai.Client()\n",
    "for i, c in enumerate(characters):\n",
    "    c_vec = get_text_embedding(client, c.__str__())\n",
    "    embedded_characters[i] = c_vec"
   ]
  },
  {
   "cell_type": "code",
   "execution_count": null,
   "metadata": {},
   "outputs": [],
   "source": [
    "\n",
    "def find_similar_character(query, characters, top_n=1):   \n",
    "    client = openai.Client() \n",
    "    query_vec = np.array(get_text_embedding(client, query))\n",
    "\n",
    "    sim = cosine_similarity(query_vec.reshape(1, -1), np.array([np.array(v) for v in characters.values()]))\n",
    "\n",
    "    idx = sorted(enumerate(sim[0]), key=lambda x: x[1], reverse=True)[:top_n][0][0]\n",
    "\n",
    "    return idx"
   ]
  },
  {
   "cell_type": "code",
   "execution_count": null,
   "metadata": {},
   "outputs": [],
   "source": [
    "idx = find_similar(query=\"a barista from the southwestern United States\",\n",
    "             characters=embedded_characters,\n",
    "             top_n=1)"
   ]
  },
  {
   "cell_type": "code",
   "execution_count": null,
   "metadata": {},
   "outputs": [],
   "source": [
    "characters[idx]"
   ]
  },
  {
   "cell_type": "code",
   "execution_count": null,
   "metadata": {},
   "outputs": [],
   "source": [
    "import numpy as np\n",
    "lst = [10, 20, 30, 100, -39]\n",
    "lst.extend(np.random.randint(0, 100, 3).tolist())"
   ]
  },
  {
   "cell_type": "code",
   "execution_count": null,
   "metadata": {},
   "outputs": [],
   "source": [
    "np.clip(lst, 0, 100)"
   ]
  },
  {
   "cell_type": "code",
   "execution_count": null,
   "metadata": {},
   "outputs": [],
   "source": [
    "from text_adventure_games.scales.base import BaseScale\n",
    "\n",
    "test_scale = BaseScale((\"Prejudicial\", \"Unbiased\"))"
   ]
  },
  {
   "cell_type": "code",
   "execution_count": null,
   "metadata": {},
   "outputs": [],
   "source": [
    "print(test_scale)"
   ]
  },
  {
   "cell_type": "code",
   "execution_count": null,
   "metadata": {},
   "outputs": [],
   "source": [
    "MONITORED_TRAITS = {\n",
    "        \"judgement\": (\"Prejudicial\", \"Unbiased\"),\n",
    "        \"cooperation\": (\"Stubborn\", \"Agreeable\"),\n",
    "        \"outlook\": (\"Pessimistic\", \"Optimistic\"),\n",
    "        \"initiative\": (\"Passive\", \"Assertive\"),\n",
    "        \"generosity\": (\"Selfish\", \"Generous\"),\n",
    "        \"social\": (\"Follower\", \"Learder\"),\n",
    "        \"mind\": (\"Creative\", \"Logical\"),\n",
    "        \"openness\": (\"Close-minded\", \"Open-minded\"),\n",
    "        \"stress\": (\"Anxious\", \"Calm\")\n",
    "    }\n",
    "\n",
    "scores = [i for i in range(10)]"
   ]
  },
  {
   "cell_type": "code",
   "execution_count": null,
   "metadata": {},
   "outputs": [],
   "source": [
    "print(*zip(MONITORED_TRAITS.items(), scores))"
   ]
  },
  {
   "cell_type": "code",
   "execution_count": null,
   "metadata": {},
   "outputs": [],
   "source": [
    "import os\n",
    "import json\n",
    "assets_path = \"../assets\"\n",
    "with open(os.path.join(assets_path, \"persona_profiles.json\"), \"r\") as pfs:\n",
    "    profiles = json.load(pfs)"
   ]
  },
  {
   "cell_type": "code",
   "execution_count": null,
   "metadata": {},
   "outputs": [],
   "source": [
    "archs = profiles['archetypes']"
   ]
  },
  {
   "cell_type": "code",
   "execution_count": null,
   "metadata": {},
   "outputs": [],
   "source": [
    "archs[0]"
   ]
  },
  {
   "cell_type": "code",
   "execution_count": null,
   "metadata": {},
   "outputs": [],
   "source": [
    "for a in archs:\n",
    "    for i, trait in enumerate(a[\"traits\"]):\n",
    "        trait.update({\"name\": names[i]})"
   ]
  },
  {
   "cell_type": "markdown",
   "metadata": {},
   "source": [
    "## Test Persona Creation"
   ]
  },
  {
   "cell_type": "code",
   "execution_count": 3,
   "metadata": {},
   "outputs": [],
   "source": [
    "# imports\n",
    "from text_adventure_games import agent\n",
    "from text_adventure_games.utils import setup_agent, general, gpt"
   ]
  },
  {
   "cell_type": "markdown",
   "metadata": {},
   "source": [
    "### Test Get Existing Facts"
   ]
  },
  {
   "cell_type": "code",
   "execution_count": 4,
   "metadata": {},
   "outputs": [
    {
     "name": "stdout",
     "output_type": "stream",
     "text": [
      "/Users/Sammy/Desktop/UPenn/MSE_DataScience/Classes/Spring_2024/CIS7000-InteractiveFiction/SurvivorWorld/text_adventure_games/assets\n"
     ]
    }
   ],
   "source": [
    "facts = setup_agent.get_or_create_base_facts(\"a barista from the united states\", make_new=False)\n",
    "assert facts == {'Name': 'Jacob Harrison',\n",
    " 'Age': 25,\n",
    " 'Likes': ['coffee brewing', 'indie music', 'baking', 'dogs', 'reading'],\n",
    " 'Dislikes': ['rude customers',\n",
    "  'early mornings',\n",
    "  'negativity',\n",
    "  'instant coffee'],\n",
    " 'Occupation': 'Barista',\n",
    " 'Home city': 'Philadelphia, Pennsylvania'}"
   ]
  },
  {
   "cell_type": "markdown",
   "metadata": {},
   "source": [
    "### Test Get new Facts"
   ]
  },
  {
   "cell_type": "code",
   "execution_count": 7,
   "metadata": {},
   "outputs": [],
   "source": [
    "facts = setup_agent.get_or_create_base_facts(\"A scuba diver with a house boat\", make_new=True)"
   ]
  },
  {
   "cell_type": "code",
   "execution_count": 4,
   "metadata": {},
   "outputs": [],
   "source": [
    "goals = {\"flex\": \"Spend time in the ocean\"}\n",
    "facts = {'Name': 'Jacob Harrison',\n",
    " 'Age': 25,\n",
    " 'Likes': ['coffee brewing', 'indie music', 'baking', 'dogs', 'reading'],\n",
    " 'Dislikes': ['rude customers',\n",
    "  'early mornings',\n",
    "  'negativity',\n",
    "  'instant coffee'],\n",
    " 'Occupation': 'Barista',\n",
    " 'Home city': 'Philadelphia, Pennsylvania'}"
   ]
  },
  {
   "cell_type": "markdown",
   "metadata": {},
   "source": [
    "### Test get archetype"
   ]
  },
  {
   "cell_type": "code",
   "execution_count": 5,
   "metadata": {},
   "outputs": [
    {
     "name": "stdout",
     "output_type": "stream",
     "text": [
      "Asset path is set to: /Users/Sammy/Desktop/UPenn/MSE_DataScience/Classes/Spring_2024/CIS7000-InteractiveFiction/SurvivorWorld/text_adventure_games/assets\n"
     ]
    }
   ],
   "source": [
    "target_profile = general.get_archetype_profiles(\"Hubris\")"
   ]
  },
  {
   "cell_type": "markdown",
   "metadata": {},
   "source": [
    "### Creat a Persona"
   ]
  },
  {
   "cell_type": "code",
   "execution_count": 6,
   "metadata": {},
   "outputs": [
    {
     "name": "stdout",
     "output_type": "stream",
     "text": [
      "Asset path is set to: /Users/Sammy/Desktop/UPenn/MSE_DataScience/Classes/Spring_2024/CIS7000-InteractiveFiction/SurvivorWorld/text_adventure_games/assets\n"
     ]
    }
   ],
   "source": [
    "p = setup_agent.create_persona(facts=facts, goals=goals, archetype=\"Hubris\")"
   ]
  },
  {
   "cell_type": "markdown",
   "metadata": {},
   "source": [
    "## Test GPT-Parser Integration"
   ]
  },
  {
   "cell_type": "code",
   "execution_count": 1,
   "metadata": {},
   "outputs": [],
   "source": [
    "import sys\n",
    "sys.path.insert(0, \"../..\")\n",
    "import action_castle\n",
    "from SurvivorWorld.text_adventure_games.parsing import GptParser3"
   ]
  },
  {
   "cell_type": "code",
   "execution_count": 2,
   "metadata": {},
   "outputs": [
    {
     "name": "stdout",
     "output_type": "stream",
     "text": [
      "sk-27...\n"
     ]
    }
   ],
   "source": [
    "game = action_castle.build_game()\n",
    "game.give_hints = True\n",
    "parser = GptParser3(game, verbose=False, model='gpt-4')"
   ]
  },
  {
   "cell_type": "code",
   "execution_count": 3,
   "metadata": {},
   "outputs": [
    {
     "name": "stdout",
     "output_type": "stream",
     "text": [
      "Chosen Command: describe\n",
      "Passed Command History:\n",
      "[{'role': 'user', 'content': 'look'}, {'role': 'assistant', 'content': 'You are standing in a small cottage.\\nExits:\\nOut to Garden Path\\n\\nYou see:\\n * a fishing pole\\n\\n'}]\n",
      "history not greater than 1000\n",
      "Total token length so far: 24\n",
      "Total token length so far: 25\n",
      "The room around you, small and quaint, is steeped in an eerie tranquility that\n",
      "seems almost otherworldly. The walls, adorned with faded floral wallpaper, seem\n",
      "to whisper tales of yesteryears. The wooden floorboards, worn by time, creak\n",
      "under your weight, as if protesting the intrusion of the present into their\n",
      "ancient domain.\n",
      "\n",
      "To the north, a door, gnarled and aged, stands slightly ajar, leading out to a\n",
      "garden path. The path, lined with a riot of wildflowers, winds its way into the\n",
      "heart of a dark, brooding forest. The forest, shrouded in an eternal twilight,\n",
      "beckons with an inexplicable allure.\n",
      "\n",
      "In the room's center, a solitary item of interest presents itself: a fishing\n",
      "pole. It leans against an old, weathered table, its handle worn smooth by\n",
      "countless hands. The pole, a relic of simpler times, seems out of place in this\n",
      "house of forgotten memories. Its line, tangled and frayed, speaks of long, idle\n",
      "hours spent by the side of a placid lake, basking in the warm glow of a setting\n",
      "sun.\n",
      "\n",
      "You can't help but feel a sense of melancholy as you survey the room, a poignant\n",
      "reminder of the inexorable\n",
      "\n",
      "Chosen Command: quit\n",
      "Passed Command History:\n",
      "[{'role': 'assistant', 'content': \"The room around you, small and quaint, is steeped in an eerie tranquility that seems almost otherworldly. The walls, adorned with faded floral wallpaper, seem to whisper tales of yesteryears. The wooden floorboards, worn by time, creak under your weight, as if protesting the intrusion of the present into their ancient domain.\\n\\nTo the north, a door, gnarled and aged, stands slightly ajar, leading out to a garden path. The path, lined with a riot of wildflowers, winds its way into the heart of a dark, brooding forest. The forest, shrouded in an eternal twilight, beckons with an inexplicable allure.\\n\\nIn the room's center, a solitary item of interest presents itself: a fishing pole. It leans against an old, weathered table, its handle worn smooth by countless hands. The pole, a relic of simpler times, seems out of place in this house of forgotten memories. Its line, tangled and frayed, speaks of long, idle hours spent by the side of a placid lake, basking in the warm glow of a setting sun. \\n\\nYou can't help but feel a sense of melancholy as you survey the room, a poignant reminder of the inexorable\"}, {'role': 'user', 'content': 'quit()'}, {'role': 'assistant', 'content': 'The End'}]\n",
      "history not greater than 1000\n",
      "Total token length so far: 2\n",
      "Total token length so far: 4\n",
      "Total token length so far: 260\n",
      "Total token length so far: 284\n",
      "Total token length so far: 285\n",
      "As you utter the command to depart, the world around you seems to ripple and\n",
      "distort, the cottage and its antiquated charm fading into a spectral mist. The\n",
      "echo of the creaking floorboards and the whispering walls linger in your ears, a\n",
      "haunting farewell from a world that was but a moment ago your reality.\n",
      "\n",
      "With a final, ethereal sigh, the game relinquishes its hold on your senses,\n",
      "returning you to the stark reality of your own world. The adventure concludes,\n",
      "leaving behind only the echo of its haunting narrative.\n",
      "\n",
      "Farewell, dear traveler. May your path be ever lit by the lantern of adventure.\n",
      "\n"
     ]
    }
   ],
   "source": [
    "game.set_parser(parser)\n",
    "parser.refresh_command_list()\n",
    "try:\n",
    "    game.game_loop()\n",
    "except openai.APIConnectionError:\n",
    "    print(\"Could not connect to OpenAI API\")"
   ]
  }
 ],
 "metadata": {
  "kernelspec": {
   "display_name": ".venv",
   "language": "python",
   "name": "python3"
  },
  "language_info": {
   "codemirror_mode": {
    "name": "ipython",
    "version": 3
   },
   "file_extension": ".py",
   "mimetype": "text/x-python",
   "name": "python",
   "nbconvert_exporter": "python",
   "pygments_lexer": "ipython3",
   "version": "3.10.6"
  }
 },
 "nbformat": 4,
 "nbformat_minor": 2
}
