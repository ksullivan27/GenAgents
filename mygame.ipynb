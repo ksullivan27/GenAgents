{
 "cells": [
  {
   "cell_type": "markdown",
   "metadata": {},
   "source": [
    "## Imports"
   ]
  },
  {
   "cell_type": "code",
   "execution_count": 1,
   "metadata": {},
   "outputs": [],
   "source": [
    "from text_adventure_games import (\n",
    "    parsing, parsing, actions, things, blocks, viz\n",
    ")"
   ]
  },
  {
   "cell_type": "markdown",
   "metadata": {},
   "source": [
    "## Locations"
   ]
  },
  {
   "cell_type": "code",
   "execution_count": 3,
   "metadata": {},
   "outputs": [],
   "source": [
    "camp = things.Location(\n",
    "    \"Camp\",\n",
    "    \"You are standing in your tribe's base camp.\"\n",
    ")\n",
    "outbound_path = things.Location(\n",
    "    \"Outbound Path\",\n",
    "    \"You are a winding path leaving the safety of camp. Ahead lies the Jungle.\",\n",
    ")\n",
    "jungle = things.Location(\n",
    "    \"Jungle\",\n",
    "    \"You are in the Jungle. There are vines and trees all around you.\"\n",
    ")\n",
    "well = things.Location(\n",
    "    \"Well\",\n",
    "    \"You stand in front of a stone well. Get some water if you're thirsty.\",\n",
    ")\n",
    "well.set_property(\"has_water\", True)\n",
    "challenge = things.Location(\n",
    "    \"Challenge\",\n",
    "    \"You are at the Immunity Challenge! Compete for a chance to be safe at tribal.\"\n",
    ")\n",
    "cliffs = things.Location(\n",
    "    \"Cliffs\",\n",
    "    \"You stand in front of the steep cliffs. Climb them carefully so you don't fall.\",\n",
    ")\n",
    "beach = things.Location(\n",
    "    \"Beach\",\n",
    "    \"You stand at the beach, toes in the sand. In front of you is the vast ocean.\"\n",
    ")\n",
    "ocean = things.Location(\n",
    "    \"Ocean\",\n",
    "    \"You are at the edge of the ocean with waves washing up around your knees.\",\n",
    ")\n",
    "bridge = things.Location(\n",
    "    \"Bridge\",\n",
    "    \"You are on a rickety bridge. Be careful.\",\n",
    ")\n",
    "bridge.set_property(\"is_broken\", True)\n",
    "tribal = things.Location(\n",
    "    \"Tribal\",\n",
    "    \"You are at tribal counsel. Cast your vote to send someone home.\",\n",
    ")\n",
    "death = things.Location(\n",
    "    \"The Afterlife\",\n",
    "    \"You are dead. GAME OVER.\"\n",
    ")\n",
    "death.set_property(\"game_over\", True)\n",
    "quit = things.Location(\n",
    "    \"Wow, why did you even join this show if you were going to quit?\",\n",
    "    \"You are out of the game; Jeff is seething. GAME OVER.\"\n",
    ")\n",
    "quit.set_property(\"game_over\", True)\n",
    "\n",
    "# Node connections\n",
    "camp.add_connection(\"out\", outbound_path)\n",
    "outbound_path.add_connection(\"in\", camp)\n",
    "outbound_path.add_connection(\"north\", jungle)\n",
    "jungle.add_connection(\"west\", jungle)\n",
    "jungle.add_connection(\"north\", well)\n",
    "jungle.add_connection(\"east\", challenge)\n",
    "well.add_connection(\"south\", jungle)\n",
    "challenge.add_connection(\"west\", jungle)\n",
    "camp.add_connection(\"east\", cliffs)\n",
    "cliffs.add_connection(\"climb\", beach)\n",
    "cliffs.add_connection(\"jump\", death)\n",
    "beach.add_connection(\"south\", ocean)\n",
    "ocean.add_connection(\"north\", beach)\n",
    "beach.add_connection(\"east\", bridge)\n",
    "bridge.add_connection(\"west\", beach)\n",
    "bridge.add_connection(\"cross\", tribal)\n",
    "bridge.add_connection(\"run\", death) # how do I remove this if bridge has been repaired\n",
    "tribal.add_connection(\"west\", bridge)\n",
    "tribal.add_connection(\"quit\", quit)"
   ]
  },
  {
   "cell_type": "markdown",
   "metadata": {},
   "source": [
    "## Gettable Items"
   ]
  },
  {
   "cell_type": "code",
   "execution_count": null,
   "metadata": {},
   "outputs": [],
   "source": [
    "machete = things.Item(\n",
    "    \"matchete\",\n",
    "    \"a sturdy machete\",\n",
    "    \"a sharp matchete capable of cutting anything.\"\n",
    ")\n",
    "machete.set_property(\"is_weapon\", True)\n",
    "machete.set_property(\"is_fragile\", False)\n",
    "camp.add_item(machete)\n",
    "\n",
    "vines = things.Item(\n",
    "    \"vines\",\n",
    "    \"long vines\",\n",
    "    \"Weavable vines. These could be used to build a trap!\",  \n",
    ")\n",
    "jungle.add_item(vines)\n",
    "\n",
    "coconut_shells = things.Item(\n",
    "    \"coconut shells\",\n",
    "    \"halved coconut shells\",\n",
    "    \"These shells would be useful for carrying water!\"\n",
    ")\n",
    "beach.add_item(coconut_shells)\n",
    "\n",
    "driftwood = things.Item(\n",
    "    \"driftwood\",\n",
    "    \"stout pieces of driftwood\",\n",
    "    \"These planks look like they could hold a lot of weight.\"\n",
    ")\n",
    "beach.add_item(driftwood)\n"
   ]
  },
  {
   "cell_type": "markdown",
   "metadata": {},
   "source": [
    "## Non-gettable items"
   ]
  },
  {
   "cell_type": "code",
   "execution_count": null,
   "metadata": {},
   "outputs": [],
   "source": [
    "ocean_water = things.Item(\n",
    "    \"the ocean\",\n",
    "    \"vast ocean\",\n",
    "    \"THERE ARE FISH IN THE OCEAN.\",\n",
    ")\n",
    "ocean_water.set_property(\"gettable\", False)\n",
    "ocean_water.set_property(\"has_fish\", True)\n",
    "ocean_water.add_command_hint(\"catch fish\")\n",
    "ocean_water.add_command_hint(\"catch fish with basket\")\n",
    "ocean.add_item(ocean_water)"
   ]
  },
  {
   "cell_type": "markdown",
   "metadata": {},
   "source": [
    "## Characters"
   ]
  },
  {
   "cell_type": "code",
   "execution_count": null,
   "metadata": {},
   "outputs": [],
   "source": [
    "# Player\n",
    "player = things.Character(\n",
    "    name=\"The player\",\n",
    "    description=\"You are an avid fan on the adventure of a lifetime.\",\n",
    "    persona=\"I am on an adventure. I am charismatic\",\n",
    ")\n",
    "player.set_property(\"is_hungry\", True)\n",
    "\n",
    "# Player's torch\n",
    "torch = things.Item(\"torch\", \"a torch\", \"Jeff says this thing is important.\")\n",
    "torch.set_property(\"is_lightable\", True)\n",
    "torch.set_property(\"is_lit\", False)\n",
    "torch.add_command_hint(\"light lamp\")\n",
    "player.add_to_inventory(torch)"
   ]
  },
  {
   "cell_type": "markdown",
   "metadata": {},
   "source": [
    "## Non-Player Characters"
   ]
  },
  {
   "cell_type": "code",
   "execution_count": null,
   "metadata": {},
   "outputs": [],
   "source": [
    "# An ally in camp\n",
    "ally = things.Character(\n",
    "    name=\"ally\",\n",
    "    description=\"A nice ally\",\n",
    "    persona=\"I am on your side and trustworth. We're in this together\",\n",
    ")\n",
    "ally.set_property(\"is_hungry\", False)\n",
    "ally.set_property(\"character_type\", \"ally\")\n",
    "camp.add_character(ally)\n",
    "\n",
    "# An enemy in camp\n",
    "enemy = things.Character(\n",
    "    name=\"ally\",\n",
    "    description=\"A mean enemy\",\n",
    "    persona=\"I will never vote with you. I despise you.\",\n",
    ")\n",
    "enemy.set_property(\"is_hungry\", True)\n",
    "enemy.set_property(\"character_type\", \"enemy\")\n",
    "camp.add_character(enemy)\n",
    "\n",
    "# An enemy in camp\n",
    "neutral = things.Character(\n",
    "    name=\"neutral\",\n",
    "    description=\"A mean neutral\",\n",
    "    persona=\"I could go either way. Persuade me.\",\n",
    ")\n",
    "neutral.set_property(\"is_hungry\", True)\n",
    "neutral.set_property(\"character_type\", \"neutral\")\n",
    "camp.add_character(neutral)\n",
    "\n",
    "# Probsty\n",
    "jeffe = things.Character(\n",
    "    name='Jeff',\n",
    "    description=\"Our fearless leader\",\n",
    "    persona=\"The biggest fan on earth. He loves this game more than anything.\"\n",
    ")\n",
    "tribal.add_character(jeffe)\n"
   ]
  },
  {
   "cell_type": "code",
   "execution_count": null,
   "metadata": {},
   "outputs": [],
   "source": [
    "# Actions needed\n",
    "# weave fish trap\n",
    "# Collect water\n",
    "# Compete in Challenge\n",
    "# \n"
   ]
  }
 ],
 "metadata": {
  "kernelspec": {
   "display_name": ".venv",
   "language": "python",
   "name": "python3"
  },
  "language_info": {
   "codemirror_mode": {
    "name": "ipython",
    "version": 3
   },
   "file_extension": ".py",
   "mimetype": "text/x-python",
   "name": "python",
   "nbconvert_exporter": "python",
   "pygments_lexer": "ipython3",
   "version": "3.10.6"
  }
 },
 "nbformat": 4,
 "nbformat_minor": 2
}
